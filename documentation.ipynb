{
 "cells": [
  {
   "cell_type": "markdown",
   "metadata": {},
   "source": [
    "# **VirtualPet**\n",
    "\n",
    "_A group project for the Open Campus SH course \"Python - from Beginner to Practitioner\" handed in by\n",
    "[ADD FULL NAMES]._\n",
    "\n",
    "\n",
    "**Goal of the Project:**\n",
    "\n",
    "Virtual pet with different needs, that has to be taken care of to live happily.\n",
    "\n",
    "\n",
    "\n",
    "**Our Process/Roadmap:**\n",
    "\n",
    "met in weekly meetings, \n",
    "tried to seperate tasks etc.\n",
    "first basic \n",
    "\n",
    "**struggles**:\n",
    "different schedules? finding an naming the tasks, how to structure own software development project\n",
    "\n",
    "\n",
    "**Ideas etc. that have not worked out:**\n",
    "\n",
    "**can/to be improved:**\n",
    "structuring the development process, float chart diagramms etc. were helpful, still challenging to break a bigger project down into single tasks that can be divided easily? \n",
    "\n",
    "\n",
    "\n"
   ]
  }
 ],
 "metadata": {
  "language_info": {
   "name": "python"
  }
 },
 "nbformat": 4,
 "nbformat_minor": 2
}
