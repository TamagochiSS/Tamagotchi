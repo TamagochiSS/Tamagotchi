{
 "cells": [
  {
   "cell_type": "markdown",
   "metadata": {},
   "source": [
    "# **VirtualPet**\n",
    "\n",
    "_A group project for the Open Campus SH course \"Python - from Beginner to Practitioner\" handed in by\n",
    "[ADD FULL NAMES]._\n",
    "\n",
    "\n",
    "**Goal of the Project:**\n",
    "\n",
    "Virtual pet with different needs, that has to be taken care of to live happily.\n",
    "\n",
    "\n",
    "\n",
    "**Our Process/Roadmap:**\n",
    "\n",
    "met in weekly meetings, \n",
    "always had \n",
    "\n",
    "\n",
    "**Ideas etc. that have not worked out:**\n",
    "\n",
    "**to be improved:**\n"
   ]
  }
 ],
 "metadata": {
  "language_info": {
   "name": "python"
  }
 },
 "nbformat": 4,
 "nbformat_minor": 2
}
