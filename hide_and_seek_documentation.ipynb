{
 "cells": [
  {
   "cell_type": "markdown",
   "metadata": {},
   "source": [
    "# **Hide and Seek Mini Game Documentation**\n",
    "\n",
    "<p>The following code can also be found in the file hide_and_seek.py (it's called in our main file Timmy_tinker).\n",
    "The idea of the game is that the user is supposed to click on the screen to find the pet, hiding beyond one random of 9 tiles.<br>\n",
    "\n",
    "First, all necessary imports are made, after that, all needed constants are defined and the screen as well as the font are defined.</p>"
   ]
  },
  {
   "cell_type": "code",
   "execution_count": 4,
   "metadata": {},
   "outputs": [],
   "source": [
    "import pygame\n",
    "import random\n",
    "import sys #module used to be able to exit the program after game is over \n",
    "\n",
    "# Initialize Pygame\n",
    "pygame.init()\n",
    "\n",
    "# Constants\n",
    "GRID_SIZE = 3\n",
    "CELL_SIZE = 100\n",
    "MARGIN = 10\n",
    "WIDTH = GRID_SIZE * (CELL_SIZE + MARGIN) - MARGIN\n",
    "HEIGHT = GRID_SIZE * (CELL_SIZE + MARGIN) - MARGIN\n",
    "BG_COLOR = (200, 200, 200)\n",
    "CELL_COLOR = (150, 150, 150)\n",
    "HIGHLIGHT_COLOR = (100, 100, 250)\n",
    "TEXT_COLOR = (0, 0, 0)\n",
    "\n",
    "# Canvas setup\n",
    "screen = pygame.display.set_mode((WIDTH, HEIGHT))\n",
    "pygame.display.set_caption(\"Hide and Seek\")\n",
    "\n",
    "\n",
    "font = pygame.font.Font(None, 36)"
   ]
  },
  {
   "cell_type": "markdown",
   "metadata": {},
   "source": [
    "<p>Here, the pet position is randomly choosen and the grid, in which the pet is supposed to hide, is created. </p>"
   ]
  },
  {
   "cell_type": "code",
   "execution_count": 5,
   "metadata": {},
   "outputs": [],
   "source": [
    "pet_position = (random.randint(0, GRID_SIZE - 1), random.randint(0, GRID_SIZE - 1))\n",
    "\n",
    "def draw_grid(highlight=None):\n",
    "    \"\"\"\n",
    "    Draw the grid and highlight a cell if provided\n",
    "    \"\"\"\n",
    "    screen.fill(BG_COLOR)\n",
    "    for y in range(GRID_SIZE):\n",
    "        for x in range(GRID_SIZE):\n",
    "            color = CELL_COLOR\n",
    "            if highlight == (x, y):\n",
    "                color = HIGHLIGHT_COLOR\n",
    "            rect = pygame.Rect(x * (CELL_SIZE + MARGIN), y * (CELL_SIZE + MARGIN), CELL_SIZE, CELL_SIZE)\n",
    "            pygame.draw.rect(screen, color, rect)\n",
    "            pygame.draw.rect(screen, TEXT_COLOR, rect, 1)\n",
    "    pygame.display.flip()"
   ]
  },
  {
   "cell_type": "markdown",
   "metadata": {},
   "source": [
    "This parts holds the main logic of the hide and seek mini game. The while loop is used to define how long the programme keeps running and is only done, when the pet is found. in That case, the user will receive a message, saying the pet is found and the game will automatically be closed."
   ]
  },
  {
   "cell_type": "code",
   "execution_count": null,
   "metadata": {},
   "outputs": [],
   "source": [
    "# Main game \n",
    "running = True\n",
    "found = False\n",
    "while running:\n",
    "    for event in pygame.event.get():\n",
    "        if event.type == pygame.QUIT:\n",
    "            running = False\n",
    "\n",
    "        if event.type == pygame.MOUSEBUTTONDOWN and not found:\n",
    "            x, y = event.pos\n",
    "            x //= CELL_SIZE + MARGIN\n",
    "            y //= CELL_SIZE + MARGIN\n",
    "            if 0 <= x < GRID_SIZE and 0 <= y < GRID_SIZE:\n",
    "                if (x, y) == pet_position:\n",
    "                    found = True\n",
    "                    #only for console: \n",
    "                    print(\"You found the pet!\")\n",
    "                else:\n",
    "                    #only for console:\n",
    "                    print(\"The pet is not here.\")\n",
    "                draw_grid((x, y))\n",
    "\n",
    "    if found:\n",
    "        screen.fill(BG_COLOR)\n",
    "        text = font.render(\"You found the pet!\", True, TEXT_COLOR)\n",
    "        screen.blit(text, (WIDTH // 2 - text.get_width() // 2, HEIGHT // 2 - text.get_height() // 2))\n",
    "        pygame.display.flip()\n",
    "        pygame.time.wait(1500)\n",
    "        pygame.quit()\n",
    "        sys.exit()"
   ]
  }
 ],
 "metadata": {
  "kernelspec": {
   "display_name": "Python 3",
   "language": "python",
   "name": "python3"
  },
  "language_info": {
   "codemirror_mode": {
    "name": "ipython",
    "version": 3
   },
   "file_extension": ".py",
   "mimetype": "text/x-python",
   "name": "python",
   "nbconvert_exporter": "python",
   "pygments_lexer": "ipython3",
   "version": "3.11.0"
  }
 },
 "nbformat": 4,
 "nbformat_minor": 2
}
