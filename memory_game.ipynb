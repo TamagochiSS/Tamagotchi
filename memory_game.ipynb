{
 "cells": [
  {
   "cell_type": "markdown",
   "metadata": {},
   "source": [
    "# **Memory Mini Game Documentation**\n",
    "\n",
    "The following code can also be found in the memory_game.py file (called in our main file). The idea behind the game is the same as in the physical memory game - you turn around two cards, if they match, the stay turned around and you take the next two. Otherwise you try again until all pairs are found.\n"
   ]
  },
  {
   "cell_type": "markdown",
   "metadata": {},
   "source": [
    "First, needed imports are made and constants used for the game are set (such as colors etc.) Also, the screen is initialized as well as the font, which will be used later."
   ]
  },
  {
   "cell_type": "code",
   "execution_count": null,
   "metadata": {},
   "outputs": [],
   "source": [
    "import pygame\n",
    "import random\n",
    "import sys\n",
    "\n",
    "# starting pygame\n",
    "pygame.init()\n",
    "\n",
    "# visualisation\n",
    "CARD_SIZE = 80\n",
    "GRID_SIZE_X, GRID_SIZE_Y = 3, 2  # 3x2 grid for 6 cards\n",
    "MARGIN = 10\n",
    "FPS = 30\n",
    "WIDTH = GRID_SIZE_X * (CARD_SIZE + MARGIN) - MARGIN\n",
    "HEIGHT = GRID_SIZE_Y * (CARD_SIZE + MARGIN) - MARGIN\n",
    "BG_COLOR = (200, 200, 200)\n",
    "TEXT_COLOR = (0, 0, 0)\n",
    "\n",
    "CARD_COLORS = [\n",
    "    (173, 216, 230),  # blue\n",
    "    (144, 238, 144),  # green\n",
    "    (216, 191, 216),  # purple\n",
    "]\n",
    "\n",
    "screen = pygame.display.set_mode((WIDTH, HEIGHT))\n",
    "pygame.display.set_caption(\"Memory\")\n",
    "font = pygame.font.Font(None, 36)"
   ]
  },
  {
   "cell_type": "markdown",
   "metadata": {},
   "source": [
    "The next two messages create the memory card board with the cards being arranged in a shuffled order."
   ]
  },
  {
   "cell_type": "code",
   "execution_count": null,
   "metadata": {},
   "outputs": [],
   "source": [
    "def create_board():\n",
    "    ''' creating a list of randomly distributed cards'''\n",
    "    cards = CARD_COLORS * (GRID_SIZE_X * GRID_SIZE_Y // len(CARD_COLORS))\n",
    "    random.shuffle(cards)\n",
    "    return cards\n",
    "\n",
    "def draw_board(board, revealed):\n",
    "    ''' drawing the board of the game '''\n",
    "    screen.fill((0, 0, 128))\n",
    "    for y in range(GRID_SIZE_Y): # y is rows and x is column on game board, GRID_SIZE for Y and X are amount of rows and columns respectively\n",
    "        for x in range(GRID_SIZE_X):\n",
    "            color = board[y * GRID_SIZE_X + x] if revealed[y][x] else (0, 0, 0) # colors at certain x and y position on game board, gray color on back of card when card is hidden \n",
    "            pygame.draw.rect(screen, color, (x * (CARD_SIZE + MARGIN), y * (CARD_SIZE + MARGIN), CARD_SIZE, CARD_SIZE)) # cards are shown as rectangles \n",
    "    pygame.display.flip()"
   ]
  },
  {
   "cell_type": "markdown",
   "metadata": {},
   "source": [
    "The memory_game() function holds the logic of the actual game. First, the board creating methods are called. Within the while loop it is checked, wether the user found a match and if so all matches. In that case the game terminates after shortly showing the message \"You won!\""
   ]
  },
  {
   "cell_type": "code",
   "execution_count": null,
   "metadata": {},
   "outputs": [],
   "source": [
    "def memory_game():\n",
    "    ''' running memory game'''\n",
    "  \n",
    "    board = create_board()\n",
    "    revealed = [[False] * GRID_SIZE_X for _ in range(GRID_SIZE_Y)]\n",
    "    first_selection, second_selection = None, None\n",
    "    matches = 0\n",
    "    total_pairs = GRID_SIZE_X * GRID_SIZE_Y // 2  # 3 * 2 = 6, number of pairs, needs to be even\n",
    "    clock = pygame.time.Clock()\n",
    "\n",
    "    while True:\n",
    "        for event in pygame.event.get():\n",
    "            if event.type == pygame.QUIT:\n",
    "                pygame.quit()\n",
    "                sys.exit()\n",
    "\n",
    "            if event.type == pygame.MOUSEBUTTONDOWN:\n",
    "                x, y = event.pos\n",
    "                x //= CARD_SIZE + MARGIN\n",
    "                y //= CARD_SIZE + MARGIN\n",
    "                if 0 <= x < GRID_SIZE_X and 0 <= y < GRID_SIZE_Y and not revealed[y][x]:\n",
    "                    revealed[y][x] = True\n",
    "                    if first_selection is None:\n",
    "                        first_selection = (x, y)\n",
    "                    elif second_selection is None:\n",
    "                        second_selection = (x, y)\n",
    "\n",
    "        draw_board(board, revealed)\n",
    "\n",
    "        if first_selection and second_selection: # checking two selected cards \n",
    "            pygame.display.flip()\n",
    "            pygame.time.wait(500)  # time until cards will either be flipped around again or be marked as a pair (0.5 ms)\n",
    "            fx, fy = first_selection # coordinates of first card\n",
    "            sx, sy = second_selection # coordinates of second card\n",
    "            if board[fy * GRID_SIZE_X + fx] == board[sy * GRID_SIZE_X + sx]: # cards are checked if they have the same color \n",
    "                matches += 1 # if match than match-count increases by 1\n",
    "                if matches == total_pairs: # if all matches are found the game will be over \n",
    "                    \n",
    "\n",
    "                    #put's \"You won!\" on Screen and closes window automatically after 1500 milliseconds    \n",
    "                    screen.fill(BG_COLOR)\n",
    "                    text = font.render(\"You won!\", True, TEXT_COLOR)\n",
    "                    screen.blit(text, (WIDTH // 2 - text.get_width() // 2, HEIGHT // 2 - text.get_height() // 2))\n",
    "                    pygame.display.flip()\n",
    "                    pygame.time.wait(1500)\n",
    "                    #other way to close the window:\n",
    "                    #pygame.quit() \n",
    "                    sys.exit()\n",
    "            else:\n",
    "                revealed[fy][fx] = revealed[sy][sx] = False # if selected cards are not matching they will be flipped again \n",
    "            first_selection, second_selection = None, None \n",
    "\n",
    "        clock.tick(FPS)"
   ]
  },
  {
   "cell_type": "markdown",
   "metadata": {},
   "source": [
    "Code snippet to start the mini game functionality:"
   ]
  },
  {
   "cell_type": "code",
   "execution_count": null,
   "metadata": {},
   "outputs": [],
   "source": [
    "if __name__ == \"__main__\":\n",
    "    memory_game()"
   ]
  }
 ],
 "metadata": {
  "language_info": {
   "name": "python"
  }
 },
 "nbformat": 4,
 "nbformat_minor": 2
}
