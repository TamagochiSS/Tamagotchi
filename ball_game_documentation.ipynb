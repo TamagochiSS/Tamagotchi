{
 "cells": [
  {
   "cell_type": "markdown",
   "metadata": {},
   "source": [
    "# **Ball Game Mini Game Documentation**\n",
    "\n",
    "The following code can also be found in the file ball_game.py (it's called in our main file Timmy_tinker). The Idea of the game is that the user prevents the ball to touch the lower edge of the game screen by moving a brick to block the ball with their mouse. If the ball touches the ground, the user playing against the virtual pet lost. If the user manages to block the ball 5 times, he or she wins."
   ]
  },
  {
   "cell_type": "markdown",
   "metadata": {},
   "source": [
    "First, all needed imports are made. Constants are defined and the game screen is initialized as well as the font and the ball and paddle start positions. Furthermore a variable is defined to count the successfull blocks of the user."
   ]
  },
  {
   "cell_type": "code",
   "execution_count": null,
   "metadata": {},
   "outputs": [],
   "source": [
    "import pygame\n",
    "import sys #module used to be able to exit the program after game is over \n",
    "\n",
    "# Initialize Pygame\n",
    "pygame.init()\n",
    "\n",
    "# Constants\n",
    "WIDTH, HEIGHT = 800, 600\n",
    "BALL_SIZE = 20\n",
    "PADDLE_WIDTH = 100\n",
    "PADDLE_HEIGHT = 20\n",
    "BALL_COLOR = (255, 0, 0)  # Red\n",
    "PADDLE_COLOR = (0, 255, 0)  # Green\n",
    "BG_COLOR = (0, 0, 0)  # Black\n",
    "TEXT_COLOR = (255, 255, 255)\n",
    "SPEED_X, SPEED_Y = 5, 5\n",
    "\n",
    "# Set up the screen\n",
    "screen = pygame.display.set_mode((WIDTH, HEIGHT))\n",
    "pygame.display.set_caption(\"Beachball\")\n",
    "\n",
    "font = pygame.font.Font(None, 36)\n",
    "\n",
    "# Ball start position\n",
    "ball_pos = [WIDTH // 2, HEIGHT // 2]\n",
    "ball_speed = [SPEED_X, SPEED_Y]\n",
    "\n",
    "# Paddle start position\n",
    "paddle_pos = [WIDTH // 2 - PADDLE_WIDTH // 2, HEIGHT - 30]\n",
    "\n",
    "# Counter for successful ball returns\n",
    "successful_hits = 0\n",
    "max_hits = 5  # Game ends after 5 successful hits"
   ]
  },
  {
   "cell_type": "markdown",
   "metadata": {},
   "source": [
    "The next lines contain the main logic of the game. The while loop keeps going until either the maximum amount of hits is reached or the ball touched the ground."
   ]
  },
  {
   "cell_type": "code",
   "execution_count": null,
   "metadata": {},
   "outputs": [],
   "source": [
    "# Main game loop\n",
    "clock = pygame.time.Clock()\n",
    "running = True\n",
    "while running:\n",
    "    for event in pygame.event.get():\n",
    "        if event.type == pygame.QUIT:\n",
    "            running = False\n",
    "\n",
    "    # Get mouse position and set paddle position\n",
    "    mouse_x = pygame.mouse.get_pos()[0]\n",
    "    paddle_pos[0] = mouse_x - PADDLE_WIDTH // 2\n",
    "\n",
    "    # Move the ball\n",
    "    ball_pos[0] += ball_speed[0]\n",
    "    ball_pos[1] += ball_speed[1]\n",
    "\n",
    "    # Check for collision with walls and change direction\n",
    "    if ball_pos[0] <= 0 or ball_pos[0] >= WIDTH - BALL_SIZE:\n",
    "        ball_speed[0] = -ball_speed[0]\n",
    "    if ball_pos[1] <= 0:\n",
    "        ball_speed[1] = -ball_speed[1]\n",
    "\n",
    "    # Check for collision with the paddle\n",
    "    if (paddle_pos[0] < ball_pos[0] < paddle_pos[0] + PADDLE_WIDTH and\n",
    "            paddle_pos[1] < ball_pos[1] + BALL_SIZE < paddle_pos[1] + PADDLE_HEIGHT):\n",
    "        ball_speed[1] = -ball_speed[1]\n",
    "        successful_hits += 1\n",
    "        if successful_hits == max_hits:\n",
    "            result = \"You won!\"\n",
    "            #print(\"You won!\") #console check\n",
    "            running = False\n",
    "\n",
    "    # End the game if the ball touches the bottom of the screen\n",
    "    if ball_pos[1] >= HEIGHT - BALL_SIZE:\n",
    "        result = \"The pet won!\"\n",
    "        \n",
    "        #print(\"The pet won!\") #console check\n",
    "        running = False\n",
    "\n",
    "    # Update the screen\n",
    "    screen.fill(BG_COLOR)\n",
    "    pygame.draw.circle(screen, BALL_COLOR, ball_pos, BALL_SIZE)\n",
    "    pygame.draw.rect(screen, PADDLE_COLOR, (paddle_pos[0], paddle_pos[1], PADDLE_WIDTH, PADDLE_HEIGHT))\n",
    "    pygame.display.flip()\n",
    "\n",
    "    # Set the frame rate\n",
    "    clock.tick(60)"
   ]
  },
  {
   "cell_type": "markdown",
   "metadata": {},
   "source": [
    "Finally, to let the user know, that he/she won or lost the game, print the result on the game screen before closing the game screen window automatically."
   ]
  },
  {
   "cell_type": "code",
   "execution_count": null,
   "metadata": {},
   "outputs": [],
   "source": [
    "\n",
    "#put's \"You won!\" or \"The Pet won!\" on Screen and closes window automatically after 1500 milliseconds    \n",
    "screen.fill(BG_COLOR)\n",
    "text = font.render(result, True, TEXT_COLOR)\n",
    "screen.blit(text, (WIDTH // 2 - text.get_width() // 2, HEIGHT // 2 - text.get_height() // 2))\n",
    "pygame.display.flip()\n",
    "pygame.time.wait(1500)\n",
    "#other way to close the window:\n",
    "#pygame.quit() \n",
    "sys.exit()"
   ]
  }
 ],
 "metadata": {
  "language_info": {
   "name": "python"
  }
 },
 "nbformat": 4,
 "nbformat_minor": 2
}
